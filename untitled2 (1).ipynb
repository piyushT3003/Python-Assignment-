{
 "cells": [
  {
   "cell_type": "code",
   "execution_count": 32,
   "id": "6957dafe-4a88-4d93-b0f3-a04a021c64cb",
   "metadata": {},
   "outputs": [
    {
     "name": "stdin",
     "output_type": "stream",
     "text": [
      "enter a number1:- 10\n",
      "enter a number2:- 3\n"
     ]
    },
    {
     "name": "stdout",
     "output_type": "stream",
     "text": [
      "addittion of values:- 13\n",
      "subtraction of values:- 7\n",
      "multipication of values:- 30\n",
      "division of two values:- 3.3333333333333335\n",
      "remainder of two values:- 1\n",
      "power of two values:- 1000\n",
      "floor division of two numbers:- 3\n"
     ]
    }
   ],
   "source": [
    "a=int(input(\"enter a number1:-\"))#input given by the user ,it is the first input\n",
    "b=int(input(\"enter a number2:-\"))#input given by the user , the second input\n",
    "print(\"addittion of values:-\",a+b)#it will sum both the inputs and then print them\n",
    "print(\"subtraction of values:-\",a-b)#it will subtract both the inputs and then print them\n",
    "print(\"multipication of values:-\",a*b)#it willmultiply both the inputs and then print them\n",
    "print(\"division of two values:-\",a/b)#it will divide both the inputs and then print them\n",
    "print(\"remainder of two values:-\",a%b)#it will give us the remainder of both the values\n",
    "print(\"power of two values:-\",a**b)#it will give us value in type of power,second one to first one power \n",
    "print(\"floor division of two numbers:-\",a//b)#it will give us the before decimal, it mainly divides\n"
   ]
  },
  {
   "cell_type": "code",
   "execution_count": 36,
   "id": "5dbf759f-b87b-4e83-bf29-d4ecc95e38e3",
   "metadata": {},
   "outputs": [
    {
     "name": "stdin",
     "output_type": "stream",
     "text": [
      "enter a number1:- 10\n",
      "enter a number2:- 3\n"
     ]
    },
    {
     "name": "stdout",
     "output_type": "stream",
     "text": [
      "a is greater than b\n"
     ]
    }
   ],
   "source": [
    "a=int(input(\"enter a number1:-\"))#it is the first input given by the user\n",
    "b=int(input(\"enter a number2:-\"))#it is the second input given by the use\n",
    "if a>b:\n",
    "    print(\"a is greater than b\")#it will print the condition if it a is greater than b\n",
    "elif a<b:\n",
    "    print(\"a is smaller than b\")#it will print the condition if a is smaller than b\n",
    "else:\n",
    "    print(\"a is equal to b\")# it will print the statement if a is equal to b"
   ]
  },
  {
   "cell_type": "code",
   "execution_count": 8,
   "id": "38e72894-b0c1-4d1b-912e-44529ed9b48b",
   "metadata": {},
   "outputs": [
    {
     "name": "stdin",
     "output_type": "stream",
     "text": [
      "enter a boolean value 1:- true\n",
      "enter a boolean value 2:- false\n",
      "enter a boolean value 3:- true\n"
     ]
    },
    {
     "name": "stdout",
     "output_type": "stream",
     "text": [
      "False\n",
      "True\n",
      "False\n",
      "True\n",
      "False\n"
     ]
    }
   ],
   "source": [
    "a=input(\"enter a boolean value 1:-\").strip().lower()==\"true\"#strip()helps to clear all white spaces and lower helps to remove indentation\n",
    "b=input(\"enter a boolean value 2:-\").strip().lower()==\"true\"\n",
    "c=input(\"enter a boolean value 3:-\").strip().lower()==\"true\"\n",
    "print(a and b and c)#it will use logic and solve the boolean values we give and print them.\n",
    "print(a or b or c)\n",
    "print(not a)\n",
    "print(not b)\n",
    "print(not c)\n",
    "\n"
   ]
  },
  {
   "cell_type": "code",
   "execution_count": 6,
   "id": "22478477-e7b7-4c17-8ea0-923feed75b4f",
   "metadata": {},
   "outputs": [
    {
     "name": "stdin",
     "output_type": "stream",
     "text": [
      "enter any string sahil\n"
     ]
    },
    {
     "name": "stdout",
     "output_type": "stream",
     "text": [
      "5\n",
      "s\n",
      "l\n",
      "lihas\n",
      "SAHIL\n",
      "sahil\n"
     ]
    }
   ],
   "source": [
    "a=input(\"enter any string\")\n",
    "print(len(a))#it print the length of string\n",
    "print(a[0])#it print first character of  string\n",
    "print(a[-1])#it print last character of string\n",
    "print(a[::-1])#it print string in the reverse order\n",
    "print(a.upper())#it print string in uppercase\n",
    "print(a.lower())#it print string in lowercase\n",
    "\n"
   ]
  },
  {
   "cell_type": "code",
   "execution_count": 4,
   "id": "682a6478-c0c9-42ea-a3a9-288b1b3e6823",
   "metadata": {},
   "outputs": [
    {
     "name": "stdin",
     "output_type": "stream",
     "text": [
      "enter your name sahil mehta\n",
      "enter your age 17\n"
     ]
    },
    {
     "name": "stdout",
     "output_type": "stream",
     "text": [
      "hello sahil mehta you are 17 years old\n"
     ]
    }
   ],
   "source": [
    "n=input(\"enter your name\")#enter your name at here\n",
    "a=int(input(\"enter your age\"))#enter the age in digits\n",
    "print(\"hello\",n,\"you are\",a,\"years old\")# it will print your answer according to your output\n",
    "\n"
   ]
  },
  {
   "cell_type": "code",
   "execution_count": 10,
   "id": "3bf1078a-6501-4ba2-a5bc-27f4bcbc4465",
   "metadata": {},
   "outputs": [
    {
     "name": "stdin",
     "output_type": "stream",
     "text": [
      "enter the no1:- 3\n",
      "enter the no2:- 4\n",
      "enter the no3:- 9\n",
      "enter the no4:- 5\n",
      "enter the no5:- 8\n"
     ]
    },
    {
     "name": "stdout",
     "output_type": "stream",
     "text": [
      "[3, 4, 9, 5, 8]\n",
      "29\n",
      "9\n",
      "3\n"
     ]
    }
   ],
   "source": [
    "a=[]#it creats an empty list\n",
    "for i in range(5):\n",
    "    b=int(input(f\"enter the no{i+1}:-\"))#in this input will be taken by the user\n",
    "    a.append(b)#it append the a list\n",
    "c=sum(a)#it print sum of all elements present in list\n",
    "d=max(a)#it print maximum value present in the list\n",
    "e=min(a)#it print the minimum value present in the list\n",
    "print(a)# print the a value\n",
    "print(c)#print the c value\n",
    "print(d)#print the d value\n",
    "print(e)#print the e value\n",
    "\n"
   ]
  },
  {
   "cell_type": "code",
   "execution_count": 16,
   "id": "18e521fb-b6cf-49da-adac-123397a40726",
   "metadata": {},
   "outputs": [
    {
     "name": "stdin",
     "output_type": "stream",
     "text": [
      "enter th fruits name1 banana\n",
      "enter th fruits name2 apple\n",
      "enter th fruits name3 litchi\n",
      "enter th fruits name4 strawberry\n",
      "enter th fruits name5 watermelon\n"
     ]
    },
    {
     "name": "stdout",
     "output_type": "stream",
     "text": [
      "['banana', 'litchi', 'strawberry', 'watermelon', 'guava']\n"
     ]
    }
   ],
   "source": [
    "a=[]#it creats an empty space\n",
    "for i in range(5):\n",
    "    b=input(f\"enter th fruits name{i+1}\")#in this the input was given by user\n",
    "    a.append(b)#it appends the list\n",
    "a.append('guava')#it appends the list with the fruit guvava permanently\n",
    "a.pop(1)\n",
    "print(a)\n",
    "\n"
   ]
  },
  {
   "cell_type": "code",
   "execution_count": 18,
   "id": "33431cff-63f4-4978-b1a4-3dae8b7ce921",
   "metadata": {},
   "outputs": [
    {
     "name": "stdin",
     "output_type": "stream",
     "text": [
      "enter the list1 8,45,6576,68\n",
      "enter the list2 35,6,79,865,\n",
      "enter the list3 2456,85,257,679\n",
      "enter the list4 2,7,0,0246,7\n",
      "enter the list5 2,4,6,7,5,32\n"
     ]
    },
    {
     "name": "stdout",
     "output_type": "stream",
     "text": [
      "9\n",
      "29\n"
     ]
    }
   ],
   "source": [
    "a=[]#it creats an empty space \n",
    "for i in range(5):\n",
    "    b=input(f\"enter the list{i+1}\")#in this we should give input in form of list\n",
    "    a.append(b)# it sppends with b\n",
    "a.sort()# it sort the a which was append in b\n",
    "a.reverse()#it reverse the a which was append in b\n",
    "print(d)# now , print the value of d \n",
    "print(c)# now, print the value of c"
   ]
  },
  {
   "cell_type": "code",
   "execution_count": 20,
   "id": "ad3a0fa0-8fbf-4e30-9b1a-028a69e4c009",
   "metadata": {},
   "outputs": [
    {
     "name": "stdout",
     "output_type": "stream",
     "text": [
      "[1, 2, 3, 4, 5]\n",
      "[6, 7, 8, 9, 10]\n",
      "[3, 4, 5, 6, 7, 8]\n"
     ]
    }
   ],
   "source": [
    "nos=[1,2,3,4,5,6,7,8,9,10]#the list (nos) we provide\n",
    "print(nos[:5])# it will print the number 4\n",
    "print(nos[5:])# it will print the number from 5 and till last\n",
    "print(nos[2:8])# it will print the number from 2nd place and ends at 7th place\n",
    "\n"
   ]
  },
  {
   "cell_type": "code",
   "execution_count": 22,
   "id": "9f1d3243-e221-49c6-8146-6599a5fb1fb2",
   "metadata": {},
   "outputs": [
    {
     "name": "stdin",
     "output_type": "stream",
     "text": [
      "Enter a sentence: sometimes trusting someone is not good\n",
      "Enter the word: trusting\n"
     ]
    },
    {
     "name": "stdout",
     "output_type": "stream",
     "text": [
      "The word trusting found at 10 index position\n"
     ]
    }
   ],
   "source": [
    "a=input(\"Enter a sentence:\") #inputs given by the  user in form of a sentence\n",
    "b=input(\"Enter the word:\") #inputs taken from user in form of a word \n",
    "c=a.find(b) #.find used to search the input b in input a\n",
    "if c !=-1: #this used to check word is found or not\n",
    "    print(f\"The word {b} found at {c} index position\") #if it is founded than this will be printed\n",
    "else:\n",
    "    print(f\"The {b} word not found\") #if it is not founded than this will be printed\n",
    "\n",
    "\n"
   ]
  },
  {
   "cell_type": "code",
   "execution_count": null,
   "id": "c6344ee8-28ed-4fd7-bc14-e089fe7f3f5d",
   "metadata": {},
   "outputs": [],
   "source": []
  },
  {
   "cell_type": "code",
   "execution_count": null,
   "id": "d1c61504-67ac-400a-bbe5-3d17b26023b1",
   "metadata": {},
   "outputs": [],
   "source": []
  }
 ],
 "metadata": {
  "kernelspec": {
   "display_name": "Python 3 (ipykernel)",
   "language": "python",
   "name": "python3"
  },
  "language_info": {
   "codemirror_mode": {
    "name": "ipython",
    "version": 3
   },
   "file_extension": ".py",
   "mimetype": "text/x-python",
   "name": "python",
   "nbconvert_exporter": "python",
   "pygments_lexer": "ipython3",
   "version": "3.12.4"
  }
 },
 "nbformat": 4,
 "nbformat_minor": 5
}
