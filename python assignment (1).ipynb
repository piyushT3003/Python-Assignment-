{
 "cells": [
  {
   "cell_type": "code",
   "execution_count": 1,
   "id": "a46aeede-99b5-4a82-b8f4-e871cf255cda",
   "metadata": {},
   "outputs": [
    {
     "name": "stdin",
     "output_type": "stream",
     "text": [
      "Enter the first number: 10\n",
      "Enter the second number: 3\n"
     ]
    },
    {
     "name": "stdout",
     "output_type": "stream",
     "text": [
      "Addition: 13\n",
      "Substraction: 7\n",
      "Multiplication: 30\n",
      "Division: 3.33\n",
      "Modulus: 1\n",
      "Exponential: 1000\n",
      "Floor Division: 3\n"
     ]
    }
   ],
   "source": [
    "a=int(input(\"Enter the first number:\"))  #inputs taken from user \n",
    "b=int(input(\"Enter the second number:\"))\n",
    "print(\"Addition:\",a+b) #printing the inputs after each operation \n",
    "print(\"Substraction:\",a-b)\n",
    "print(\"Multiplication:\",a*b)\n",
    "print(\"Division:\",(round(a/b,2)))\n",
    "print(\"Modulus:\",a%b)\n",
    "print(\"Exponential:\",a**b)\n",
    "print(\"Floor Division:\",a//b)"
   ]
  },
  {
   "cell_type": "code",
   "execution_count": 2,
   "id": "486d1e31-7543-451b-9187-437f3db93415",
   "metadata": {},
   "outputs": [
    {
     "name": "stdin",
     "output_type": "stream",
     "text": [
      "Enter the first number: 30\n",
      "Enter the second number: 20\n"
     ]
    },
    {
     "name": "stdout",
     "output_type": "stream",
     "text": [
      "First number is greater than the second number\n"
     ]
    }
   ],
   "source": [
    "a=int(input(\"Enter the first number:\")) #inputs taken from user\n",
    "b=int(input(\"Enter the second number:\"))\n",
    "if a>b: #checking if the number in greater or not\n",
    "    print(\"First number is greater than the second number\") # if greater than this will be printed \n",
    "elif a==b:\n",
    "    print(\"Both number are equal\") #if the number is equal than this will be printed \n",
    "else:\n",
    "    print(\"The first number is less than the second number\") # if the number is less than, than this will be printed "
   ]
  },
  {
   "cell_type": "code",
   "execution_count": 14,
   "id": "008ff36a-6b5b-4809-9116-355f7602413a",
   "metadata": {},
   "outputs": [
    {
     "name": "stdin",
     "output_type": "stream",
     "text": [
      "Enter the first value: true\n",
      "Enter the second vale: false\n",
      "Enter the third value: false\n"
     ]
    },
    {
     "name": "stdout",
     "output_type": "stream",
     "text": [
      "The AND operator result:False\n",
      "The OR operator result:True\n",
      "The NOT operator result:False\n",
      "The NOT operator result:True\n",
      "The NOT operator result:True\n"
     ]
    }
   ],
   "source": [
    "a=(input(\"Enter the first value:\")).strip().lower()==\"true\" #inputs taken from user\n",
    "b=(input(\"Enter the second vale:\")).strip().lower()==\"true\" #.strip() is used to clear any whitespaces \n",
    "c=(input(\"Enter the third value:\")).strip().lower()==\"true\" #.lower() is used because boolean value is True or False so with this lower letters will also be accepted\n",
    "r1=a and b and c #logical operators\n",
    "r2=a or b or c\n",
    "r3= not a\n",
    "r4= not b\n",
    "r5= not c\n",
    "print(f\"The AND operator result:{r1}\") #printng logical operators using f string\n",
    "print(f\"The OR operator result:{r2}\")\n",
    "print(f\"The NOT operator result:{r3}\")\n",
    "print(f\"The NOT operator result:{r4}\")\n",
    "print(f\"The NOT operator result:{r5}\")"
   ]
  },
  {
   "cell_type": "code",
   "execution_count": 3,
   "id": "f2e1e7e7-8c69-40f5-8155-50b152260c2a",
   "metadata": {},
   "outputs": [
    {
     "name": "stdin",
     "output_type": "stream",
     "text": [
      "Enter a string: Nikhil\n"
     ]
    },
    {
     "name": "stdout",
     "output_type": "stream",
     "text": [
      "6\n",
      "Nl\n",
      "lihkiN\n",
      "NIKHIL\n",
      "nikhil\n"
     ]
    }
   ],
   "source": [
    "a=input(\"Enter a string:\") #inputs taken from user\n",
    "print(len(a)) #printing lenght of input\n",
    "print(a[:1]+a[-1:]) #printing first and last letter of input\n",
    "print(a[::-1]) #printing reverse of input\n",
    "print(a.upper()) #printing inupt in uppercase\n",
    "print(a.lower()) #printing input in lowercase"
   ]
  },
  {
   "cell_type": "code",
   "execution_count": 4,
   "id": "bddbb48d-783a-4ad1-a2bd-ad76bfcd0e81",
   "metadata": {},
   "outputs": [
    {
     "name": "stdin",
     "output_type": "stream",
     "text": [
      "Enter Your Name: Nikhil\n",
      "Enter Your Age: 18\n"
     ]
    },
    {
     "name": "stdout",
     "output_type": "stream",
     "text": [
      "Hello Nikhil, you are 18 years old.\n"
     ]
    }
   ],
   "source": [
    "a=input(\"Enter Your Name:\") #inputs taken from user\n",
    "b=input(\"Enter Your Age:\")\n",
    "print(f\"Hello {a}, you are {b} years old.\") #printing input using f string"
   ]
  },
  {
   "cell_type": "code",
   "execution_count": 5,
   "id": "f9b4d447-1def-421b-9fde-2a07b8bd9dc7",
   "metadata": {},
   "outputs": [
    {
     "name": "stdin",
     "output_type": "stream",
     "text": [
      "Enter a sentence: Wake up to reality. Nothing ever goes as planned in this world. The longer you live, the more you realize that only pain, suffering, and futility exist in this reality.\n",
      "Enter the word: pain\n"
     ]
    },
    {
     "name": "stdout",
     "output_type": "stream",
     "text": [
      "The word pain found at 116 index position\n"
     ]
    }
   ],
   "source": [
    "a=input(\"Enter a sentence:\") #inputs taken from user\n",
    "b=input(\"Enter the word:\") #inputs taken from user which would be used to search \n",
    "c=a.find(b) #.find is used to search the input b from input a\n",
    "if c !=-1: #this used to check if the word is found or not \n",
    "    print(f\"The word {b} found at {c} index position\") #if found than this will be printed \n",
    "else:\n",
    "    print(f\"The {b} word not found\") #if not found than this will be printed"
   ]
  },
  {
   "cell_type": "code",
   "execution_count": 1,
   "id": "cd567dd8-6643-444a-b298-7308f94d3e76",
   "metadata": {},
   "outputs": [
    {
     "name": "stdin",
     "output_type": "stream",
     "text": [
      "Enter the number 1: 45\n",
      "Enter the number 2: 346\n",
      "Enter the number 3: 75\n",
      "Enter the number 4: 42\n",
      "Enter the number 5: 2\n"
     ]
    },
    {
     "name": "stdout",
     "output_type": "stream",
     "text": [
      "List:[45, 346, 75, 42, 2]\n",
      "The total is:510\n",
      "The largest number:346\n",
      "The smallest number:2\n"
     ]
    }
   ],
   "source": [
    "a=[] #empty list created\n",
    "for i in range(5): #loops the input 5 times\n",
    "    b=int(input(f\"Enter the number {i+1}:\")) # imput is being looped 5 times and also incrementing i value by +1\n",
    "    a.append(b) #the input is then appended to the empty list \n",
    "c=sum(a) #sums the list \n",
    "d=max(a) #takes the greatest number \n",
    "e=min(a) #takes the smallest number\n",
    "print(f\"List:{a}\") #prints the list using f string \n",
    "print(f\"The total is:{c}\") #prints the total of list \n",
    "print(f\"The largest number:{d}\") #print the largest number\n",
    "print(f\"The smallest number:{e}\") #print the smallest number"
   ]
  },
  {
   "cell_type": "code",
   "execution_count": 10,
   "id": "31fe8ddf-ffdf-4bc9-a526-0989bf878d1b",
   "metadata": {},
   "outputs": [
    {
     "name": "stdin",
     "output_type": "stream",
     "text": [
      "Enter Your Favorite Fruit 1: orange\n",
      "Enter Your Favorite Fruit 2: mango\n",
      "Enter Your Favorite Fruit 3: apple\n",
      "Enter Your Favorite Fruit 4: banana\n",
      "Enter Your Favorite Fruit 5: pineapple\n"
     ]
    },
    {
     "name": "stdout",
     "output_type": "stream",
     "text": [
      "The First list:['orange', 'mango', 'apple', 'banana', 'pineapple']\n"
     ]
    },
    {
     "name": "stdin",
     "output_type": "stream",
     "text": [
      "Enter the other fruit you want to add: pear\n"
     ]
    },
    {
     "name": "stdout",
     "output_type": "stream",
     "text": [
      "The added fruit list:['orange', 'mango', 'apple', 'banana', 'pineapple', 'pear']\n",
      "The removed and updated list of fruits:['orange', 'apple', 'banana', 'pineapple', 'pear']\n"
     ]
    }
   ],
   "source": [
    "a=[] #empty list created\n",
    "for i in range(5): #loops the input 5 times\n",
    "    b=input(f\"Enter Your Favorite Fruit {i+1}:\") # imput is being looped 5 times and also incrementing i value by +1\n",
    "    a.append(b) #the input is then appended to the empty list \n",
    "print(f\"The First list:{a}\") #prints the list \n",
    "c=input(\"Enter the other fruit you want to add:\") #enter the other value \n",
    "a.append(c) #adds the other value to lisst\n",
    "print(f\"The added fruit list:{a}\") #prints the added value list \n",
    "d=a.pop(1) #removes a value from list\n",
    "print(f\"The removed and updated list of fruits:{a}\") # the updated list"
   ]
  },
  {
   "cell_type": "code",
   "execution_count": 11,
   "id": "d71642e6-1119-441b-8006-294df3745954",
   "metadata": {},
   "outputs": [
    {
     "name": "stdin",
     "output_type": "stream",
     "text": [
      "Enter the number 1: 3\n",
      "Enter the number 2: 2\n",
      "Enter the number 3: 6\n",
      "Enter the number 4: 5\n",
      "Enter the number 5: 9\n"
     ]
    },
    {
     "name": "stdout",
     "output_type": "stream",
     "text": [
      "The Number list:['3', '2', '6', '5', '9']\n",
      "Ascending Sorted list:['2', '3', '5', '6', '9']\n",
      "Descending Sorted list:['9', '6', '5', '3', '2']\n"
     ]
    }
   ],
   "source": [
    "a=[] #empty list created\n",
    "for i in range(5): #loops the input 5\n",
    "    b=input(f\"Enter the number {i+1}:\") # imput is being looped 5 times and also incrementing i value by +1\n",
    "    a.append(b) #the input is then appended to the empty list \n",
    "print(f\"The Number list:{a}\") #prints the list \n",
    "c=a.sort() #used to sort the list in ascending\n",
    "print(f\"Ascending Sorted list:{a}\")  #prints the ascending list\n",
    "d=a.sort(reverse=True) #used to sort the list in descending order\n",
    "print(f\"Descending Sorted list:{a}\") #prints the descending list "
   ]
  },
  {
   "cell_type": "code",
   "execution_count": 12,
   "id": "c9822112-7afe-4180-84fe-321aa7dd149f",
   "metadata": {},
   "outputs": [
    {
     "name": "stdout",
     "output_type": "stream",
     "text": [
      "['1', '2', '3', '4', '5']\n",
      "['6', '7', '8', '9', '10']\n",
      "['3', '4', '5', '6', '7', '8']\n"
     ]
    }
   ],
   "source": [
    "a=[\"1\",\"2\",\"3\",\"4\",\"5\",\"6\",\"7\",\"8\",\"9\",\"10\"]\n",
    "b=a[:5] #used to print first 5 values \n",
    "c=a[-5:] # used  to print the last five values \n",
    "d=a[2:8] #used to print values between 2 and 8\n",
    "print(b)\n",
    "print(c)\n",
    "print(d)"
   ]
  },
  {
   "cell_type": "code",
   "execution_count": 1,
   "id": "7d37cbf1-c160-4e0e-95f8-cac8c3dc20d4",
   "metadata": {},
   "outputs": [
    {
     "name": "stdin",
     "output_type": "stream",
     "text": [
      "Enter student name:  Nikhil\n",
      "Enter mark for Nikhil's subject 1:  80\n",
      "Enter mark for Nikhil's subject 2:  90\n",
      "Enter mark for Nikhil's subject 3:  87\n",
      "Enter student name:  Tejas\n",
      "Enter mark for Tejas's subject 1:  87\n",
      "Enter mark for Tejas's subject 2:  65\n",
      "Enter mark for Tejas's subject 3:  78\n",
      "Enter student name:  Daksh\n",
      "Enter mark for Daksh's subject 1:  89\n",
      "Enter mark for Daksh's subject 2:  78\n",
      "Enter mark for Daksh's subject 3:  80\n"
     ]
    },
    {
     "name": "stdout",
     "output_type": "stream",
     "text": [
      "Nikhil's average score is:85.66666666666667\n",
      "Tejas's average score is:76.66666666666667\n",
      "Daksh's average score is:82.33333333333333\n"
     ]
    }
   ],
   "source": [
    "a=[]  #empty list created\n",
    "for i in range(3): #loops the input 3 times \n",
    "    b=input(\"Enter student name: \") #Student name is inputed \n",
    "    c=[] #nested list is created\n",
    "    for j in range(3): #loops the input 3 times \n",
    "        d= float(input(f\"Enter mark for {b}'s subject {j+1}: \")) # imput is being looped 3 times and also incrementing j value by +1\n",
    "        c.append(d) #The d inputs are append to list c \n",
    "    a.append([b,c]) #The input b and list c are append to list a \n",
    "for i in a: #loops the list \n",
    "    average = sum(i[1]) / len(i[1]) #Takes average of all 3 students with their 3 subjects \n",
    "    print(f\"{i[0]}'s average score is:{average}\") #prints the student name and their average score "
   ]
  },
  {
   "cell_type": "code",
   "execution_count": null,
   "id": "8c57ebee-10ff-49a5-bc49-42724d0f3162",
   "metadata": {},
   "outputs": [],
   "source": []
  }
 ],
 "metadata": {
  "kernelspec": {
   "display_name": "Python 3 (ipykernel)",
   "language": "python",
   "name": "python3"
  },
  "language_info": {
   "codemirror_mode": {
    "name": "ipython",
    "version": 3
   },
   "file_extension": ".py",
   "mimetype": "text/x-python",
   "name": "python",
   "nbconvert_exporter": "python",
   "pygments_lexer": "ipython3",
   "version": "3.11.4"
  }
 },
 "nbformat": 4,
 "nbformat_minor": 5
}
