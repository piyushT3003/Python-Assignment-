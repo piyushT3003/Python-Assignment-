{
 "cells": [
  {
   "cell_type": "raw",
   "id": "c013e0b4-6b5a-4cba-a170-f8f097f0ba49",
   "metadata": {},
   "source": []
  },
  {
   "cell_type": "code",
   "execution_count": 4,
   "id": "2f5bfbed-d43d-47fb-b5fb-6d5c21cd1963",
   "metadata": {},
   "outputs": [
    {
     "name": "stdin",
     "output_type": "stream",
     "text": [
      "Choose one: snake, water, or gun:  python\n",
      "Invalid choice. Choose one: snake, water, or gun:  water\n"
     ]
    },
    {
     "name": "stdout",
     "output_type": "stream",
     "text": [
      "\n",
      "Your choice: water\n",
      "Computer's choice: water\n",
      "It's a tie!\n"
     ]
    }
   ],
   "source": [
    "import random          # from library we import random function.\n",
    "def play_game():      # Define the function.\n",
    "    choices=['snake', 'water', 'gun']  #we gave choice according to our games.\n",
    "    user_choice=input(\"Choose one: snake, water, or gun: \").lower() # In this it will take the user input .\n",
    "    while user_choice not in choices:\n",
    "        user_choice=input(\"Invalid choice. Choose one: snake, water, or gun: \").lower() # If user choice is invalid than it will take again users choice.\n",
    "    computer_choice = random.choice(choices)# it is the computers choice randomly it will select one of them.\n",
    "    print(f\"\\nYour choice: {user_choice}\")# it will print the user's choice first.\n",
    "    print(f\"Computer's choice: {computer_choice}\")# it will print computer's choice.\n",
    "    if user_choice == computer_choice:# conditiional statements\n",
    "        print(\"It's a tie!\") # if they both have same choice than it will print that it's a tie.\n",
    "    elif (user_choice == 'snake' and computer_choice == 'water') or \\ # if they both choose different conditions,then it will print you win acc. to cond.\n",
    "         (user_choice == 'water' and computer_choice == 'gun') or \\\n",
    "         (user_choice == 'gun' and computer_choice == 'snake'):\n",
    "        print(\"You win!\")\n",
    "    else:\n",
    "        print(\"You lose!\")# if they do not choosen according to the conditions then it will print \"you loose\".\n",
    "play_game() # it is used to run the defined function.\n"
   ]
  },
  {
   "cell_type": "code",
   "execution_count": null,
   "id": "8fe964d0-1517-4a62-be43-a91895064999",
   "metadata": {},
   "outputs": [],
   "source": []
  },
  {
   "cell_type": "code",
   "execution_count": null,
   "id": "ae8da37f-aa87-47bd-9dd9-52486a091517",
   "metadata": {},
   "outputs": [],
   "source": []
  },
  {
   "cell_type": "code",
   "execution_count": null,
   "id": "016df04d-09cf-48c0-8046-dd8b6eadb86d",
   "metadata": {},
   "outputs": [],
   "source": []
  }
 ],
 "metadata": {
  "kernelspec": {
   "display_name": "Python 3 (ipykernel)",
   "language": "python",
   "name": "python3"
  },
  "language_info": {
   "codemirror_mode": {
    "name": "ipython",
    "version": 3
   },
   "file_extension": ".py",
   "mimetype": "text/x-python",
   "name": "python",
   "nbconvert_exporter": "python",
   "pygments_lexer": "ipython3",
   "version": "3.12.7"
  }
 },
 "nbformat": 4,
 "nbformat_minor": 5
}
