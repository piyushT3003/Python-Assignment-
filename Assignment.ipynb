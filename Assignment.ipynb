{
 "cells": [
  {
   "cell_type": "code",
   "execution_count": null,
   "id": "b168f321-1af4-4266-a3d2-76c43e75491f",
   "metadata": {},
   "outputs": [],
   "source": [
    "a = float(input(\"Enter first number: \"))\n",
    "b = float(input(\"Enter second number: \"))\n",
    "\n",
    "print(a + b)\n",
    "print(a - b)\n",
    "print(a * b)\n",
    "print(a / b)\n",
    "print(a % b)\n",
    "print(a ** b)\n",
    "print(a // b)"
   ]
  },
  {
   "cell_type": "code",
   "execution_count": null,
   "id": "c5e3c224-5bc9-4546-8455-2a2232c9aefe",
   "metadata": {},
   "outputs": [],
   "source": [
    "a = float(input(\"Enter first number: \"))\n",
    "b = float(input(\"Enter second number: \"))\n",
    "\n",
    "print(a > b)\n",
    "print(a == b)\n",
    "print(a <= b)"
   ]
  },
  {
   "cell_type": "code",
   "execution_count": null,
   "id": "e0aa68ec-1511-4cb4-8f5c-4e7fcb53f00d",
   "metadata": {},
   "outputs": [],
   "source": [
    "a=(input(\"Enter the first value:\")).strip().lower()==\"true\" \n",
    "b=(input(\"Enter the second vale:\")).strip().lower()==\"true\"\n",
    "c=(input(\"Enter the third value:\")).strip().lower()==\"true\" \n",
    "r1=a and b and c \n",
    "r2=a or b or c\n",
    "r3= not a\n",
    "r4= not b\n",
    "r5= not c\n",
    "print(f\"The AND operator result:{r1}\") \n",
    "print(f\"The OR operator result:{r2}\")\n",
    "print(f\"The NOT operator result:{r3}\")\n",
    "print(f\"The NOT operator result:{r4}\")\n",
    "print(f\"The NOT operator result:{r5}\")"
   ]
  },
  {
   "cell_type": "code",
   "execution_count": null,
   "id": "aead9b88-1e08-4a82-a8bf-24feecbac5a7",
   "metadata": {},
   "outputs": [],
   "source": [
    "text=input(\"enter a string:\")\n",
    "\n",
    "print(len(text))\n",
    "print(text[0],text[-1])\n",
    "print(text[::-1])\n",
    "print(text.upper(),text.lower())"
   ]
  },
  {
   "cell_type": "code",
   "execution_count": null,
   "id": "665a9bb2-636d-44f0-9e95-d1dc28f64864",
   "metadata": {},
   "outputs": [],
   "source": [
    "name = input(\"Enter your name: \")\n",
    "age = input(\"Enter your age: \")\n",
    "\n",
    "print(\"Hello\",name, \",you are\",age,\"years old.\")"
   ]
  },
  {
   "cell_type": "code",
   "execution_count": null,
   "id": "daba5ed8-99cf-41aa-84d8-046f01eb50b2",
   "metadata": {},
   "outputs": [],
   "source": [
    "sentence = input(\"Enter a sentence: \")\n",
    "word = input(\"Enter a word to search: \")\n",
    "\n",
    "if word in sentence:\n",
    "    print(sentence.index(word))\n",
    "else:\n",
    "    print(\"Word not found\")"
   ]
  },
  {
   "cell_type": "code",
   "execution_count": null,
   "id": "7a1295f6-0167-4983-a7cd-220db150474d",
   "metadata": {},
   "outputs": [],
   "source": [
    "numbers = [float(input(\"Enter number: \")) for _ in range(5)]\n",
    "\n",
    "print(sum(numbers))\n",
    "print(max(numbers) , min(numbers))"
   ]
  },
  {
   "cell_type": "code",
   "execution_count": null,
   "id": "40d5f4bf-29f7-4b60-bc0b-2c5af9167256",
   "metadata": {},
   "outputs": [],
   "source": [
    "fruits = ['Apple', 'Mango', 'Orange', 'Kiwi', 'Lychee']\n",
    "fruits += ['watermelon']\n",
    "fruits.remove(fruits[1])\n",
    "print(fruits)"
   ]
  },
  {
   "cell_type": "code",
   "execution_count": null,
   "id": "4254db90-bb60-4325-bcbd-5269dd9b2f88",
   "metadata": {},
   "outputs": [],
   "source": [
    "numbers = []\n",
    "while len(numbers) < 5:\n",
    "    num = int(input(\"Enter a number: \"))\n",
    "    numbers.append(num)\n",
    "print(\"Ascending order:\", sorted(numbers))\n",
    "print(\"Descending order:\", sorted(numbers, reverse=True))"
   ]
  },
  {
   "cell_type": "code",
   "execution_count": null,
   "id": "c6b8483c-da3c-46d7-b4b0-b5ff8d3d8b95",
   "metadata": {},
   "outputs": [],
   "source": [
    "numbers = [1, 2, 3, 4, 5, 6, 7, 8, 9, 10]\n",
    "print(numbers[:5])\n",
    "print(numbers[5:])\n",
    "print(numbers[2:8])"
   ]
  }
 ],
 "metadata": {
  "kernelspec": {
   "display_name": "Python 3 (ipykernel)",
   "language": "python",
   "name": "python3"
  },
  "language_info": {
   "codemirror_mode": {
    "name": "ipython",
    "version": 3
   },
   "file_extension": ".py",
   "mimetype": "text/x-python",
   "name": "python",
   "nbconvert_exporter": "python",
   "pygments_lexer": "ipython3",
   "version": "3.12.4"
  }
 },
 "nbformat": 4,
 "nbformat_minor": 5
}
