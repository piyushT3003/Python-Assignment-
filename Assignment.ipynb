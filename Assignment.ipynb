{
 "cells": [
  {
   "cell_type": "code",
   "execution_count": 4,
   "id": "b168f321-1af4-4266-a3d2-76c43e75491f",
   "metadata": {},
   "outputs": [
    {
     "name": "stdin",
     "output_type": "stream",
     "text": [
      "Enter first number:  10\n",
      "Enter second number:  3\n"
     ]
    },
    {
     "name": "stdout",
     "output_type": "stream",
     "text": [
      "13\n",
      "7\n",
      "30\n",
      "3.33\n",
      "1\n",
      "1000\n",
      "3\n"
     ]
    }
   ],
   "source": [
    "a = int(input(\"Enter first number: \"))#input taken no. 1\n",
    "b = int(input(\"Enter second number: \"))#input taken no.2\n",
    "\n",
    "print(a + b)#print all arithmetic values.\n",
    "print(a - b)\n",
    "print(a * b)\n",
    "print(round(a / b,2))\n",
    "print(a % b)\n",
    "print(a ** b)\n",
    "print(a // b)"
   ]
  },
  {
   "cell_type": "code",
   "execution_count": 6,
   "id": "c5e3c224-5bc9-4546-8455-2a2232c9aefe",
   "metadata": {},
   "outputs": [
    {
     "name": "stdin",
     "output_type": "stream",
     "text": [
      "Enter first number:  2\n",
      "Enter second number:  5\n"
     ]
    },
    {
     "name": "stdout",
     "output_type": "stream",
     "text": [
      "A is less than B\n"
     ]
    }
   ],
   "source": [
    "a = int(input(\"Enter first number: \"))#input taken no.1\n",
    "b = int(input(\"Enter second number: \"))#input taken  no.2\n",
    "if a>b:\n",
    "    print(\"A is greater than B\")# it will print the condition if it satisfy the condition\n",
    "elif a==b:\n",
    "    print(\"A and B are equal\") #it will print the condition elif it satisfy the condition\n",
    "else:\n",
    "    print(\"A is less than B\") #it will print the condition else it satisfy the condition\n",
    "else:\n"
   ]
  },
  {
   "cell_type": "code",
   "execution_count": 7,
   "id": "e0aa68ec-1511-4cb4-8f5c-4e7fcb53f00d",
   "metadata": {},
   "outputs": [
    {
     "name": "stdin",
     "output_type": "stream",
     "text": [
      "Enter the first value: true\n",
      "Enter the second vale: true\n",
      "Enter the third value: false\n"
     ]
    },
    {
     "name": "stdout",
     "output_type": "stream",
     "text": [
      "The AND operator result:False\n",
      "The OR operator result:True\n",
      "The NOT operator result:False\n",
      "The NOT operator result:False\n",
      "The NOT operator result:True\n"
     ]
    }
   ],
   "source": [
    "a=(input(\"Enter the first value:\")).strip().lower()==\"true\" #input given by the user as boolean\n",
    "b=(input(\"Enter the second vale:\")).strip().lower()==\"true\"#input given by the user as boolean\n",
    "c=(input(\"Enter the third value:\")).strip().lower()==\"true\" #input given by the user as boolean\n",
    "r1=a and b and c # it will use logic and give input\n",
    "r2=a or b or c\n",
    "r3= not a\n",
    "r4= not b\n",
    "r5= not c\n",
    "print(f\"The AND operator result:{r1}\") # print the outputs we get .\n",
    "print(f\"The OR operator result:{r2}\")\n",
    "print(f\"The NOT operator result:{r3}\")\n",
    "print(f\"The NOT operator result:{r4}\")\n",
    "print(f\"The NOT operator result:{r5}\")"
   ]
  },
  {
   "cell_type": "code",
   "execution_count": 8,
   "id": "aead9b88-1e08-4a82-a8bf-24feecbac5a7",
   "metadata": {},
   "outputs": [
    {
     "name": "stdin",
     "output_type": "stream",
     "text": [
      "enter a string: piyus\n"
     ]
    },
    {
     "name": "stdout",
     "output_type": "stream",
     "text": [
      "5\n",
      "p s\n",
      "suyip\n",
      "PIYUS piyus\n"
     ]
    }
   ],
   "source": [
    "a=input(\"enter a string:\") # the string input we give \n",
    "\n",
    "print(len(a))# print the len of the string\n",
    "print(a[0],a[-1])# print the first input and then second input\n",
    "print(a[::-1])# print the list in reverse mode\n",
    "print(a.upper(),a.lower()) # print the case in lower and upper"
   ]
  },
  {
   "cell_type": "code",
   "execution_count": 12,
   "id": "665a9bb2-636d-44f0-9e95-d1dc28f64864",
   "metadata": {},
   "outputs": [
    {
     "name": "stdin",
     "output_type": "stream",
     "text": [
      "Enter your name:  piyush \n",
      "Enter your age:  22\n"
     ]
    },
    {
     "name": "stdout",
     "output_type": "stream",
     "text": [
      "Hello piyush  you are 22 years old.\n"
     ]
    }
   ],
   "source": [
    "name = input(\"Enter your name: \")# user will give the input as name\n",
    "age = int(input(\"Enter your age: \"))# it will give the input as integer\n",
    "\n",
    "print(\"Hello\",name, \"you are\",age,\"years old.\")# print the output"
   ]
  },
  {
   "cell_type": "code",
   "execution_count": 13,
   "id": "daba5ed8-99cf-41aa-84d8-046f01eb50b2",
   "metadata": {},
   "outputs": [
    {
     "name": "stdin",
     "output_type": "stream",
     "text": [
      "Enter a sentence:  sure if you want you can try \n",
      "Enter a word to search:  if\n"
     ]
    },
    {
     "name": "stdout",
     "output_type": "stream",
     "text": [
      "5\n"
     ]
    }
   ],
   "source": [
    "sentence = input(\"Enter a sentence: \")# input given by the user\n",
    "word = input(\"Enter a word to search: \")\n",
    "\n",
    "if word in sentence:\n",
    "    print(sentence.index(word))# if it satisfy the condition if then it will print the condition \n",
    "else:\n",
    "    print(\"Word not found\")"
   ]
  },
  {
   "cell_type": "code",
   "execution_count": 15,
   "id": "7a1295f6-0167-4983-a7cd-220db150474d",
   "metadata": {},
   "outputs": [
    {
     "name": "stdin",
     "output_type": "stream",
     "text": [
      "Enter number:  5\n",
      "Enter number:  6\n",
      "Enter number:  7\n",
      "Enter number:  87\n",
      "Enter number:  8\n"
     ]
    },
    {
     "name": "stdout",
     "output_type": "stream",
     "text": [
      "113.0\n",
      "87.0 5.0\n"
     ]
    }
   ],
   "source": [
    "numbers = [float(input(\"Enter number: \")) for _ in range(5)]# five inputs give \n",
    "\n",
    "print(sum(numbers)) # print the sum of numbers \n",
    "print(max(numbers) , min(numbers))# print max and min number"
   ]
  },
  {
   "cell_type": "code",
   "execution_count": null,
   "id": "40d5f4bf-29f7-4b60-bc0b-2c5af9167256",
   "metadata": {},
   "outputs": [],
   "source": [
    "a=[]# input given by the user\n",
    "for i in range(5): \n",
    "    b=input(f\"Enter the Fruit {i+1}:\") \n",
    "    a.append(b) # it appends the input b\n",
    "print(f\"The First list:{a}\") #print the statement\n",
    "c=input(\"Enter the fruit you want to add:\") # one more input.\n",
    "a.append(c) # it appends with c\n",
    "print(f\"The added fruit list:{a}\") \n",
    "d=a.pop(1) # now d is equal to the a input and pop the first value\n",
    "print(f\"The removed and updated list of fruits:{a}\") # print the condition"
   ]
  },
  {
   "cell_type": "code",
   "execution_count": 19,
   "id": "4254db90-bb60-4325-bcbd-5269dd9b2f88",
   "metadata": {},
   "outputs": [
    {
     "name": "stdin",
     "output_type": "stream",
     "text": [
      "Enter a number:  67\n",
      "Enter a number:  89\n",
      "Enter a number:  46\n",
      "Enter a number:  78\n",
      "Enter a number:  90\n"
     ]
    },
    {
     "name": "stdout",
     "output_type": "stream",
     "text": [
      "Ascending order: [46, 67, 78, 89, 90]\n",
      "Descending order: [90, 89, 78, 67, 46]\n"
     ]
    }
   ],
   "source": [
    "numbers = []# input given \n",
    "while len(numbers) < 5:\n",
    "    num = int(input(\"Enter a number: \"))# input given are will be five\n",
    "    numbers.append(num)# it appends the number\n",
    "print(\"Ascending order:\", sorted(numbers))# arrange in ascending order\n",
    "print(\"Descending order:\", sorted(numbers, reverse=True))# arrange in descending order"
   ]
  },
  {
   "cell_type": "code",
   "execution_count": null,
   "id": "c6b8483c-da3c-46d7-b4b0-b5ff8d3d8b95",
   "metadata": {},
   "outputs": [],
   "source": [
    "numbers = [1, 2, 3, 4, 5, 6, 7, 8, 9, 10]# list name as number\n",
    "print(numbers[:5])# print the conditions\n",
    "print(numbers[5:])\n",
    "print(numbers[2:8])"
   ]
  }
 ],
 "metadata": {
  "kernelspec": {
   "display_name": "Python 3 (ipykernel)",
   "language": "python",
   "name": "python3"
  },
  "language_info": {
   "codemirror_mode": {
    "name": "ipython",
    "version": 3
   },
   "file_extension": ".py",
   "mimetype": "text/x-python",
   "name": "python",
   "nbconvert_exporter": "python",
   "pygments_lexer": "ipython3",
   "version": "3.12.4"
  }
 },
 "nbformat": 4,
 "nbformat_minor": 5
}
